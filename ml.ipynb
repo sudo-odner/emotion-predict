{
 "cells": [
  {
   "cell_type": "code",
   "execution_count": 127,
   "id": "1d107bca-a49c-436c-8f58-27e1d8a8cb45",
   "metadata": {},
   "outputs": [],
   "source": [
    "from sklearn import svm\n",
    "import pickle\n",
    "import numpy as np\n",
    "from sklearn.model_selection import train_test_split\n",
    "from sklearn.utils import shuffle"
   ]
  },
  {
   "cell_type": "code",
   "execution_count": 77,
   "id": "cdcbb840-2ad3-4cbe-ad4e-ebe30c4acf7f",
   "metadata": {},
   "outputs": [],
   "source": [
    "metrics = [\"angry\", \"disgust\", \"fear\", \"happy\", \"neutral\", \"sad\", \"surprise\"]\n",
    "metrics_index = [0, 1, 2, 3, 4, 5, 6]\n",
    "X_emotion_cords_dataset_to_model = list()\n",
    "Y_emotion_cords_dataset_to_model = list()"
   ]
  },
  {
   "cell_type": "markdown",
   "id": "c7962983-1ff4-4df7-af6a-e5d291686af1",
   "metadata": {},
   "source": [
    "Через numpy"
   ]
  },
  {
   "cell_type": "code",
   "execution_count": 70,
   "id": "910d687d-17ca-4bcf-b692-512e7348f2d4",
   "metadata": {},
   "outputs": [],
   "source": [
    "emotion_cords_dataset = np.load('emotion_cords_dataset.npy')"
   ]
  },
  {
   "cell_type": "code",
   "execution_count": 71,
   "id": "3283e747-b420-45a2-a32d-fa594e4940ed",
   "metadata": {},
   "outputs": [
    {
     "data": {
      "text/plain": [
       "[460, 460, 460, 460, 460, 460, 460]"
      ]
     },
     "execution_count": 71,
     "metadata": {},
     "output_type": "execute_result"
    }
   ],
   "source": [
    "[len(i) for i in emotion_cords_dataset]"
   ]
  },
  {
   "cell_type": "markdown",
   "id": "c75e89dd-cb36-436d-ae09-b3f17287b3c7",
   "metadata": {},
   "source": [
    "Через list"
   ]
  },
  {
   "cell_type": "code",
   "execution_count": 78,
   "id": "0554d3f2-7a71-4e0e-a2d0-387d47adb115",
   "metadata": {},
   "outputs": [],
   "source": [
    "with open('emotion_cords_dataset.pkl', 'rb') as file:\n",
    "    emotion_cords_dataset = pickle.load(file)"
   ]
  },
  {
   "cell_type": "code",
   "execution_count": 79,
   "id": "d65d6a48-0b7a-4178-85d3-b254a49016d1",
   "metadata": {},
   "outputs": [
    {
     "data": {
      "text/plain": [
       "[1000, 460, 1000, 1000, 1000, 1000, 1000]"
      ]
     },
     "execution_count": 79,
     "metadata": {},
     "output_type": "execute_result"
    }
   ],
   "source": [
    "[len(i) for i in emotion_cords_dataset]"
   ]
  },
  {
   "cell_type": "markdown",
   "id": "1b3d669e-1571-4052-ad02-72a151335e30",
   "metadata": {},
   "source": [
    "Метрика датасета [\"angry\", \"disgust\", \"fear\", \"happy\", \"neutral\", \"sad\", \"surprise\"]"
   ]
  },
  {
   "cell_type": "code",
   "execution_count": 80,
   "id": "cda60f99-a49a-4c18-94c4-ebc441ef84d2",
   "metadata": {},
   "outputs": [],
   "source": [
    "for emotion in range(len(emotion_cords_dataset)):\n",
    "    for i in range(len(emotion_cords_dataset[emotion])):\n",
    "        X_emotion_cords_dataset_to_model.append(np.array((emotion_cords_dataset[emotion][i])).ravel())\n",
    "        Y_emotion_cords_dataset_to_model.append(emotion)"
   ]
  },
  {
   "cell_type": "code",
   "execution_count": 128,
   "id": "f85a91f1-ba3d-4436-8f57-ae78267c814d",
   "metadata": {},
   "outputs": [],
   "source": [
    "X_emotion_cords_dataset_to_model, Y_emotion_cords_dataset_to_model = shuffle(X_emotion_cords_dataset_to_model, Y_emotion_cords_dataset_to_model, random_state=2344)"
   ]
  },
  {
   "cell_type": "code",
   "execution_count": 156,
   "id": "4a3721a7-9123-45c5-a334-e2961a243a28",
   "metadata": {},
   "outputs": [],
   "source": [
    "x_train, x_test, y_train, y_test = train_test_split(X_emotion_cords_dataset_to_model, Y_emotion_cords_dataset_to_model, test_size=0.20)"
   ]
  },
  {
   "cell_type": "code",
   "execution_count": null,
   "id": "1d562b48-15ac-437f-badb-2d4f84814dca",
   "metadata": {},
   "outputs": [],
   "source": [
    "model = svm.SVC(kernel='poly', probability=True)\n",
    "model.fit(x_train, y_train)"
   ]
  },
  {
   "cell_type": "code",
   "execution_count": 152,
   "id": "f93293b5-59c4-450c-8b09-e71b1fd1798a",
   "metadata": {},
   "outputs": [
    {
     "name": "stdout",
     "output_type": "stream",
     "text": [
      "0.4006878761822872\n"
     ]
    }
   ],
   "source": [
    "correct = 0\n",
    "\n",
    "for i in range(len(x_test)):\n",
    "    forecast = model.predict([x_test[i]])\n",
    "    if forecast==y_test[i]: correct+=1\n",
    "print(correct/len(x_test))"
   ]
  },
  {
   "cell_type": "code",
   "execution_count": 154,
   "id": "221cac3c-79a2-40ec-ad70-4abca57882d6",
   "metadata": {},
   "outputs": [],
   "source": [
    "# Save the model to a file\n",
    "with open('model_40.pkl', 'wb') as file:\n",
    "    pickle.dump(model, file)"
   ]
  },
  {
   "cell_type": "code",
   "execution_count": null,
   "id": "f169fbde-305e-4ea4-93c2-5d5f2d23686c",
   "metadata": {},
   "outputs": [],
   "source": [
    "# Load the model from the file\n",
    "with open('model_filename.pkl', 'rb') as file:\n",
    "    loaded_model = pickle.load(file)"
   ]
  }
 ],
 "metadata": {
  "kernelspec": {
   "display_name": "Python 3 (ipykernel)",
   "language": "python",
   "name": "python3"
  },
  "language_info": {
   "codemirror_mode": {
    "name": "ipython",
    "version": 3
   },
   "file_extension": ".py",
   "mimetype": "text/x-python",
   "name": "python",
   "nbconvert_exporter": "python",
   "pygments_lexer": "ipython3",
   "version": "3.8.17"
  }
 },
 "nbformat": 4,
 "nbformat_minor": 5
}
